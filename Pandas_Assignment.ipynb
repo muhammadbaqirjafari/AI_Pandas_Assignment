{
 "cells": [
  {
   "cell_type": "code",
   "execution_count": 1,
   "metadata": {},
   "outputs": [],
   "source": [
    "import pandas as pd\n",
    "import numpy as np"
   ]
  },
  {
   "cell_type": "markdown",
   "metadata": {},
   "source": [
    "# Part 1"
   ]
  },
  {
   "cell_type": "markdown",
   "metadata": {},
   "source": [
    "## 1."
   ]
  },
  {
   "cell_type": "code",
   "execution_count": 2,
   "metadata": {},
   "outputs": [
    {
     "data": {
      "text/html": [
       "<div>\n",
       "<style scoped>\n",
       "    .dataframe tbody tr th:only-of-type {\n",
       "        vertical-align: middle;\n",
       "    }\n",
       "\n",
       "    .dataframe tbody tr th {\n",
       "        vertical-align: top;\n",
       "    }\n",
       "\n",
       "    .dataframe thead th {\n",
       "        text-align: right;\n",
       "    }\n",
       "</style>\n",
       "<table border=\"1\" class=\"dataframe\">\n",
       "  <thead>\n",
       "    <tr style=\"text-align: right;\">\n",
       "      <th></th>\n",
       "      <th>Unnamed: 0</th>\n",
       "      <th>State</th>\n",
       "      <th>TotalPop</th>\n",
       "      <th>Hispanic</th>\n",
       "      <th>White</th>\n",
       "      <th>Black</th>\n",
       "      <th>Native</th>\n",
       "      <th>Asian</th>\n",
       "      <th>Pacific</th>\n",
       "      <th>Income</th>\n",
       "      <th>GenderPop</th>\n",
       "    </tr>\n",
       "  </thead>\n",
       "  <tbody>\n",
       "    <tr>\n",
       "      <th>0</th>\n",
       "      <td>0</td>\n",
       "      <td>Alabama</td>\n",
       "      <td>4830620</td>\n",
       "      <td>3.7516156462584975%</td>\n",
       "      <td>61.878656462585%</td>\n",
       "      <td>31.25297619047618%</td>\n",
       "      <td>0.4532312925170065%</td>\n",
       "      <td>1.0502551020408146%</td>\n",
       "      <td>0.03435374149659865%</td>\n",
       "      <td>$43296.35860306644</td>\n",
       "      <td>2341093M_2489527F</td>\n",
       "    </tr>\n",
       "    <tr>\n",
       "      <th>1</th>\n",
       "      <td>1</td>\n",
       "      <td>Alaska</td>\n",
       "      <td>733375</td>\n",
       "      <td>5.909580838323351%</td>\n",
       "      <td>60.910179640718574%</td>\n",
       "      <td>2.8485029940119775%</td>\n",
       "      <td>16.39101796407186%</td>\n",
       "      <td>5.450299401197604%</td>\n",
       "      <td>1.0586826347305378%</td>\n",
       "      <td>$70354.74390243902</td>\n",
       "      <td>384160M_349215F</td>\n",
       "    </tr>\n",
       "    <tr>\n",
       "      <th>2</th>\n",
       "      <td>2</td>\n",
       "      <td>Arizona</td>\n",
       "      <td>6641928</td>\n",
       "      <td>29.565921052631502%</td>\n",
       "      <td>57.120000000000026%</td>\n",
       "      <td>3.8509868421052658%</td>\n",
       "      <td>4.35506578947368%</td>\n",
       "      <td>2.876578947368419%</td>\n",
       "      <td>0.16763157894736833%</td>\n",
       "      <td>$54207.82095490716</td>\n",
       "      <td>3299088M_3342840F</td>\n",
       "    </tr>\n",
       "    <tr>\n",
       "      <th>3</th>\n",
       "      <td>3</td>\n",
       "      <td>Arkansas</td>\n",
       "      <td>2958208</td>\n",
       "      <td>6.215474452554738%</td>\n",
       "      <td>71.13781021897813%</td>\n",
       "      <td>18.968759124087573%</td>\n",
       "      <td>0.5229197080291965%</td>\n",
       "      <td>1.1423357664233578%</td>\n",
       "      <td>0.14686131386861315%</td>\n",
       "      <td>$41935.63396778917</td>\n",
       "      <td>1451913M_1506295F</td>\n",
       "    </tr>\n",
       "    <tr>\n",
       "      <th>4</th>\n",
       "      <td>4</td>\n",
       "      <td>California</td>\n",
       "      <td>38421464</td>\n",
       "      <td>37.291874687968054%</td>\n",
       "      <td>40.21578881677474%</td>\n",
       "      <td>5.677396405391911%</td>\n",
       "      <td>0.40529206190713685%</td>\n",
       "      <td>13.052234148776776%</td>\n",
       "      <td>0.35141038442336353%</td>\n",
       "      <td>$67264.78230266465</td>\n",
       "      <td>19087135M_19334329F</td>\n",
       "    </tr>\n",
       "    <tr>\n",
       "      <th>5</th>\n",
       "      <td>5</td>\n",
       "      <td>Colorado</td>\n",
       "      <td>5278906</td>\n",
       "      <td>20.78438003220608%</td>\n",
       "      <td>69.89557165861504%</td>\n",
       "      <td>3.546376811594201%</td>\n",
       "      <td>0.5738325281803548%</td>\n",
       "      <td>2.661996779388082%</td>\n",
       "      <td>NaN</td>\n",
       "      <td>$64657.801787164906</td>\n",
       "      <td>2648667M_2630239F</td>\n",
       "    </tr>\n",
       "  </tbody>\n",
       "</table>\n",
       "</div>"
      ],
      "text/plain": [
       "   Unnamed: 0       State  TotalPop             Hispanic                White  \\\n",
       "0           0     Alabama   4830620  3.7516156462584975%     61.878656462585%   \n",
       "1           1      Alaska    733375   5.909580838323351%  60.910179640718574%   \n",
       "2           2     Arizona   6641928  29.565921052631502%  57.120000000000026%   \n",
       "3           3    Arkansas   2958208   6.215474452554738%   71.13781021897813%   \n",
       "4           4  California  38421464  37.291874687968054%   40.21578881677474%   \n",
       "5           5    Colorado   5278906   20.78438003220608%   69.89557165861504%   \n",
       "\n",
       "                 Black                Native                Asian  \\\n",
       "0   31.25297619047618%   0.4532312925170065%  1.0502551020408146%   \n",
       "1  2.8485029940119775%    16.39101796407186%   5.450299401197604%   \n",
       "2  3.8509868421052658%     4.35506578947368%   2.876578947368419%   \n",
       "3  18.968759124087573%   0.5229197080291965%  1.1423357664233578%   \n",
       "4   5.677396405391911%  0.40529206190713685%  13.052234148776776%   \n",
       "5   3.546376811594201%   0.5738325281803548%   2.661996779388082%   \n",
       "\n",
       "                Pacific               Income            GenderPop  \n",
       "0  0.03435374149659865%   $43296.35860306644    2341093M_2489527F  \n",
       "1   1.0586826347305378%   $70354.74390243902      384160M_349215F  \n",
       "2  0.16763157894736833%   $54207.82095490716    3299088M_3342840F  \n",
       "3  0.14686131386861315%   $41935.63396778917    1451913M_1506295F  \n",
       "4  0.35141038442336353%   $67264.78230266465  19087135M_19334329F  \n",
       "5                   NaN  $64657.801787164906    2648667M_2630239F  "
      ]
     },
     "execution_count": 2,
     "metadata": {},
     "output_type": "execute_result"
    }
   ],
   "source": [
    "pd.read_csv(\"states0.csv\")"
   ]
  },
  {
   "cell_type": "code",
   "execution_count": 3,
   "metadata": {},
   "outputs": [
    {
     "data": {
      "text/html": [
       "<div>\n",
       "<style scoped>\n",
       "    .dataframe tbody tr th:only-of-type {\n",
       "        vertical-align: middle;\n",
       "    }\n",
       "\n",
       "    .dataframe tbody tr th {\n",
       "        vertical-align: top;\n",
       "    }\n",
       "\n",
       "    .dataframe thead th {\n",
       "        text-align: right;\n",
       "    }\n",
       "</style>\n",
       "<table border=\"1\" class=\"dataframe\">\n",
       "  <thead>\n",
       "    <tr style=\"text-align: right;\">\n",
       "      <th></th>\n",
       "      <th>Unnamed: 0</th>\n",
       "      <th>State</th>\n",
       "      <th>TotalPop</th>\n",
       "      <th>Hispanic</th>\n",
       "      <th>White</th>\n",
       "      <th>Black</th>\n",
       "      <th>Native</th>\n",
       "      <th>Asian</th>\n",
       "      <th>Pacific</th>\n",
       "      <th>Income</th>\n",
       "      <th>GenderPop</th>\n",
       "    </tr>\n",
       "  </thead>\n",
       "  <tbody>\n",
       "    <tr>\n",
       "      <th>0</th>\n",
       "      <td>0</td>\n",
       "      <td>Utah</td>\n",
       "      <td>2903379</td>\n",
       "      <td>13.468376068376063%</td>\n",
       "      <td>79.40683760683764%</td>\n",
       "      <td>1.0179487179487194%</td>\n",
       "      <td>1.0813675213675222%</td>\n",
       "      <td>2.196068376068376%</td>\n",
       "      <td>0.8259829059829059%</td>\n",
       "      <td>$63488.91780821918</td>\n",
       "      <td>1459229M_1444150F</td>\n",
       "    </tr>\n",
       "    <tr>\n",
       "      <th>1</th>\n",
       "      <td>1</td>\n",
       "      <td>Vermont</td>\n",
       "      <td>626604</td>\n",
       "      <td>1.6092896174863391%</td>\n",
       "      <td>93.98306010928961%</td>\n",
       "      <td>0.9808743169398909%</td>\n",
       "      <td>0.301639344262295%</td>\n",
       "      <td>1.2387978142076501%</td>\n",
       "      <td>0.03060109289617486%</td>\n",
       "      <td>$55602.96721311475</td>\n",
       "      <td>308573M_318031F</td>\n",
       "    </tr>\n",
       "    <tr>\n",
       "      <th>2</th>\n",
       "      <td>2</td>\n",
       "      <td>Virginia</td>\n",
       "      <td>8256630</td>\n",
       "      <td>8.0110164981373%</td>\n",
       "      <td>63.271048430015945%</td>\n",
       "      <td>20.17599787120807%</td>\n",
       "      <td>0.21245343267695582%</td>\n",
       "      <td>5.455242150079845%</td>\n",
       "      <td>0.06471527408195847%</td>\n",
       "      <td>$72866.01341201717</td>\n",
       "      <td>4060948M_4195682F</td>\n",
       "    </tr>\n",
       "    <tr>\n",
       "      <th>3</th>\n",
       "      <td>3</td>\n",
       "      <td>Washington</td>\n",
       "      <td>6985464</td>\n",
       "      <td>11.140968858131506%</td>\n",
       "      <td>72.03840830449816%</td>\n",
       "      <td>3.384429065743947%</td>\n",
       "      <td>1.4107266435986163%</td>\n",
       "      <td>7.022006920415224%</td>\n",
       "      <td>0.609896193771627%</td>\n",
       "      <td>$64493.76768377254</td>\n",
       "      <td>3487725M_3497739F</td>\n",
       "    </tr>\n",
       "    <tr>\n",
       "      <th>4</th>\n",
       "      <td>4</td>\n",
       "      <td>West Virginia</td>\n",
       "      <td>1851420</td>\n",
       "      <td>1.290909090909089%</td>\n",
       "      <td>92.17623966942146%</td>\n",
       "      <td>3.6628099173553723%</td>\n",
       "      <td>0.15268595041322316%</td>\n",
       "      <td>0.6824380165289253%</td>\n",
       "      <td>0.02644628099173554%</td>\n",
       "      <td>$41437.11157024794</td>\n",
       "      <td>913631M_937789F</td>\n",
       "    </tr>\n",
       "    <tr>\n",
       "      <th>5</th>\n",
       "      <td>5</td>\n",
       "      <td>Wisconsin</td>\n",
       "      <td>5742117</td>\n",
       "      <td>6.683333333333334%</td>\n",
       "      <td>79.86400862068966%</td>\n",
       "      <td>8.195186781609202%</td>\n",
       "      <td>0.9536637931034483%</td>\n",
       "      <td>2.404238505747124%</td>\n",
       "      <td>0.020833333333333332%</td>\n",
       "      <td>$53898.889208633096</td>\n",
       "      <td>2851385M_2890732F</td>\n",
       "    </tr>\n",
       "  </tbody>\n",
       "</table>\n",
       "</div>"
      ],
      "text/plain": [
       "   Unnamed: 0          State  TotalPop             Hispanic  \\\n",
       "0           0           Utah   2903379  13.468376068376063%   \n",
       "1           1        Vermont    626604  1.6092896174863391%   \n",
       "2           2       Virginia   8256630     8.0110164981373%   \n",
       "3           3     Washington   6985464  11.140968858131506%   \n",
       "4           4  West Virginia   1851420   1.290909090909089%   \n",
       "5           5      Wisconsin   5742117   6.683333333333334%   \n",
       "\n",
       "                 White                Black                Native  \\\n",
       "0   79.40683760683764%  1.0179487179487194%   1.0813675213675222%   \n",
       "1   93.98306010928961%  0.9808743169398909%    0.301639344262295%   \n",
       "2  63.271048430015945%   20.17599787120807%  0.21245343267695582%   \n",
       "3   72.03840830449816%   3.384429065743947%   1.4107266435986163%   \n",
       "4   92.17623966942146%  3.6628099173553723%  0.15268595041322316%   \n",
       "5   79.86400862068966%   8.195186781609202%   0.9536637931034483%   \n",
       "\n",
       "                 Asian                Pacific               Income  \\\n",
       "0   2.196068376068376%    0.8259829059829059%   $63488.91780821918   \n",
       "1  1.2387978142076501%   0.03060109289617486%   $55602.96721311475   \n",
       "2   5.455242150079845%   0.06471527408195847%   $72866.01341201717   \n",
       "3   7.022006920415224%     0.609896193771627%   $64493.76768377254   \n",
       "4  0.6824380165289253%   0.02644628099173554%   $41437.11157024794   \n",
       "5   2.404238505747124%  0.020833333333333332%  $53898.889208633096   \n",
       "\n",
       "           GenderPop  \n",
       "0  1459229M_1444150F  \n",
       "1    308573M_318031F  \n",
       "2  4060948M_4195682F  \n",
       "3  3487725M_3497739F  \n",
       "4    913631M_937789F  \n",
       "5  2851385M_2890732F  "
      ]
     },
     "execution_count": 3,
     "metadata": {},
     "output_type": "execute_result"
    }
   ],
   "source": [
    "pd.read_csv(\"states9.csv\")\n",
    "# I think these files contains states data in sorted form\n",
    "# And each file contains 6 states\n",
    "# There are 10 files, so total states = 60"
   ]
  },
  {
   "cell_type": "markdown",
   "metadata": {},
   "source": [
    "## 2."
   ]
  },
  {
   "cell_type": "code",
   "execution_count": 4,
   "metadata": {},
   "outputs": [],
   "source": [
    "import glob"
   ]
  },
  {
   "cell_type": "code",
   "execution_count": 5,
   "metadata": {},
   "outputs": [],
   "source": [
    "us_census = pd.DataFrame()\n",
    "# Reading all files data and concating\n",
    "for file in glob.glob(\"states*.csv\"):\n",
    "    temp = pd.read_csv(file)\n",
    "    us_census = pd.concat([us_census, temp])\n",
    "# Dropping Unnamed Column\n",
    "us_census = us_census.drop(columns=['Unnamed: 0'])"
   ]
  },
  {
   "cell_type": "markdown",
   "metadata": {},
   "source": [
    "## 3."
   ]
  },
  {
   "cell_type": "code",
   "execution_count": 6,
   "metadata": {},
   "outputs": [
    {
     "data": {
      "text/plain": [
       "Index(['State', 'TotalPop', 'Hispanic', 'White', 'Black', 'Native', 'Asian',\n",
       "       'Pacific', 'Income', 'GenderPop'],\n",
       "      dtype='object')"
      ]
     },
     "execution_count": 6,
     "metadata": {},
     "output_type": "execute_result"
    }
   ],
   "source": [
    "us_census.columns"
   ]
  },
  {
   "cell_type": "code",
   "execution_count": 7,
   "metadata": {},
   "outputs": [
    {
     "data": {
      "text/plain": [
       "State        object\n",
       "TotalPop      int64\n",
       "Hispanic     object\n",
       "White        object\n",
       "Black        object\n",
       "Native       object\n",
       "Asian        object\n",
       "Pacific      object\n",
       "Income       object\n",
       "GenderPop    object\n",
       "dtype: object"
      ]
     },
     "execution_count": 7,
     "metadata": {},
     "output_type": "execute_result"
    }
   ],
   "source": [
    "us_census.dtypes"
   ]
  },
  {
   "cell_type": "markdown",
   "metadata": {},
   "source": [
    "## 4."
   ]
  },
  {
   "cell_type": "code",
   "execution_count": 8,
   "metadata": {},
   "outputs": [
    {
     "data": {
      "text/html": [
       "<div>\n",
       "<style scoped>\n",
       "    .dataframe tbody tr th:only-of-type {\n",
       "        vertical-align: middle;\n",
       "    }\n",
       "\n",
       "    .dataframe tbody tr th {\n",
       "        vertical-align: top;\n",
       "    }\n",
       "\n",
       "    .dataframe thead th {\n",
       "        text-align: right;\n",
       "    }\n",
       "</style>\n",
       "<table border=\"1\" class=\"dataframe\">\n",
       "  <thead>\n",
       "    <tr style=\"text-align: right;\">\n",
       "      <th></th>\n",
       "      <th>State</th>\n",
       "      <th>TotalPop</th>\n",
       "      <th>Hispanic</th>\n",
       "      <th>White</th>\n",
       "      <th>Black</th>\n",
       "      <th>Native</th>\n",
       "      <th>Asian</th>\n",
       "      <th>Pacific</th>\n",
       "      <th>Income</th>\n",
       "      <th>GenderPop</th>\n",
       "    </tr>\n",
       "  </thead>\n",
       "  <tbody>\n",
       "    <tr>\n",
       "      <th>0</th>\n",
       "      <td>Missouri</td>\n",
       "      <td>6045448</td>\n",
       "      <td>4.037247838616718%</td>\n",
       "      <td>77.508069164265%</td>\n",
       "      <td>14.122118155619594%</td>\n",
       "      <td>0.36332853025936646%</td>\n",
       "      <td>1.6244956772334296%</td>\n",
       "      <td>0.10165706051873193%</td>\n",
       "      <td>$49763.98772563177</td>\n",
       "      <td>2964003M_3081445F</td>\n",
       "    </tr>\n",
       "    <tr>\n",
       "      <th>1</th>\n",
       "      <td>Montana</td>\n",
       "      <td>1014699</td>\n",
       "      <td>3.2688888888888896%</td>\n",
       "      <td>86.41555555555554%</td>\n",
       "      <td>0.4292592592592591%</td>\n",
       "      <td>7.0607407407407425%</td>\n",
       "      <td>0.5703703703703705%</td>\n",
       "      <td>0.07222222222222222%</td>\n",
       "      <td>$47645.682835820895</td>\n",
       "      <td>510163M_F</td>\n",
       "    </tr>\n",
       "    <tr>\n",
       "      <th>2</th>\n",
       "      <td>Nebraska</td>\n",
       "      <td>1869365</td>\n",
       "      <td>9.203759398496235%</td>\n",
       "      <td>81.13947368421056%</td>\n",
       "      <td>4.956203007518794%</td>\n",
       "      <td>0.8644736842105263%</td>\n",
       "      <td>1.8590225563909788%</td>\n",
       "      <td>0.05714285714285715%</td>\n",
       "      <td>$55916.469696969696</td>\n",
       "      <td>929606M_939759F</td>\n",
       "    </tr>\n",
       "    <tr>\n",
       "      <th>3</th>\n",
       "      <td>Nevada</td>\n",
       "      <td>2798636</td>\n",
       "      <td>27.100883652430046%</td>\n",
       "      <td>53.23932253313698%</td>\n",
       "      <td>7.739617083946994%</td>\n",
       "      <td>1.0871870397643593%</td>\n",
       "      <td>7.095729013254786%</td>\n",
       "      <td>0.5745213549337267%</td>\n",
       "      <td>$55526.525073746314</td>\n",
       "      <td>1407735M_1390901F</td>\n",
       "    </tr>\n",
       "    <tr>\n",
       "      <th>4</th>\n",
       "      <td>New Hampshire</td>\n",
       "      <td>1324201</td>\n",
       "      <td>3.3219178082191796%</td>\n",
       "      <td>91.31917808219184%</td>\n",
       "      <td>1.2277397260273974%</td>\n",
       "      <td>0.14280821917808229%</td>\n",
       "      <td>2.191438356164382%</td>\n",
       "      <td>0.016095890410958904%</td>\n",
       "      <td>$68728.8595890411</td>\n",
       "      <td>653484M_670717F</td>\n",
       "    </tr>\n",
       "  </tbody>\n",
       "</table>\n",
       "</div>"
      ],
      "text/plain": [
       "           State  TotalPop             Hispanic               White  \\\n",
       "0       Missouri   6045448   4.037247838616718%    77.508069164265%   \n",
       "1        Montana   1014699  3.2688888888888896%  86.41555555555554%   \n",
       "2       Nebraska   1869365   9.203759398496235%  81.13947368421056%   \n",
       "3         Nevada   2798636  27.100883652430046%  53.23932253313698%   \n",
       "4  New Hampshire   1324201  3.3219178082191796%  91.31917808219184%   \n",
       "\n",
       "                 Black                Native                Asian  \\\n",
       "0  14.122118155619594%  0.36332853025936646%  1.6244956772334296%   \n",
       "1  0.4292592592592591%   7.0607407407407425%  0.5703703703703705%   \n",
       "2   4.956203007518794%   0.8644736842105263%  1.8590225563909788%   \n",
       "3   7.739617083946994%   1.0871870397643593%   7.095729013254786%   \n",
       "4  1.2277397260273974%  0.14280821917808229%   2.191438356164382%   \n",
       "\n",
       "                 Pacific               Income          GenderPop  \n",
       "0   0.10165706051873193%   $49763.98772563177  2964003M_3081445F  \n",
       "1   0.07222222222222222%  $47645.682835820895          510163M_F  \n",
       "2   0.05714285714285715%  $55916.469696969696    929606M_939759F  \n",
       "3    0.5745213549337267%  $55526.525073746314  1407735M_1390901F  \n",
       "4  0.016095890410958904%    $68728.8595890411    653484M_670717F  "
      ]
     },
     "execution_count": 8,
     "metadata": {},
     "output_type": "execute_result"
    }
   ],
   "source": [
    "us_census.head()"
   ]
  },
  {
   "cell_type": "markdown",
   "metadata": {},
   "source": [
    "## 5."
   ]
  },
  {
   "cell_type": "code",
   "execution_count": 9,
   "metadata": {},
   "outputs": [],
   "source": [
    "pattern = \"\\$([0-9]*\\.[0-9]*)\"\n",
    "# The following line will extract the dollar '$' sign and return value in int form\n",
    "us_census['Income'] = us_census['Income'].str.extract(pattern)[0]\n",
    "us_census = us_census.astype({'Income': 'float64'})"
   ]
  },
  {
   "cell_type": "markdown",
   "metadata": {},
   "source": [
    "## 6."
   ]
  },
  {
   "cell_type": "code",
   "execution_count": 10,
   "metadata": {},
   "outputs": [],
   "source": [
    "pattern = \"[M_ | F]\"\n",
    "# Splitting the GenderPop column\n",
    "result = us_census['GenderPop'].str.split(pattern)\n",
    "# Extracting MalePop column\n",
    "us_census['MalePop'] = result.map(lambda x: np.nan if x[0] == '' else x[0])"
   ]
  },
  {
   "cell_type": "code",
   "execution_count": 11,
   "metadata": {},
   "outputs": [],
   "source": [
    "# Extracting FemalePop column\n",
    "us_census['FemalePop'] = female = result.map(lambda x: np.nan if x[2] == '' else x[2])"
   ]
  },
  {
   "cell_type": "markdown",
   "metadata": {},
   "source": [
    "## 7."
   ]
  },
  {
   "cell_type": "code",
   "execution_count": 12,
   "metadata": {},
   "outputs": [
    {
     "data": {
      "text/plain": [
       "MalePop       int32\n",
       "FemalePop    object\n",
       "dtype: object"
      ]
     },
     "execution_count": 12,
     "metadata": {},
     "output_type": "execute_result"
    }
   ],
   "source": [
    "# Changing Data Type\n",
    "us_census = us_census.astype({'MalePop': 'int32'}, copy=False)\n",
    "# Now Both columns have numberical data type\n",
    "us_census.dtypes[['MalePop', 'FemalePop']]"
   ]
  },
  {
   "cell_type": "markdown",
   "metadata": {},
   "source": [
    "## 8."
   ]
  },
  {
   "cell_type": "code",
   "execution_count": 13,
   "metadata": {},
   "outputs": [],
   "source": [
    "import matplotlib.pyplot as plt"
   ]
  },
  {
   "cell_type": "code",
   "execution_count": 14,
   "metadata": {},
   "outputs": [],
   "source": [
    "# Following Lines will produce error\n",
    "# plt.scatter(us_census['FemalePop'], us_census['Income'])\n",
    "# plt.show()"
   ]
  },
  {
   "cell_type": "markdown",
   "metadata": {},
   "source": [
    "## 9."
   ]
  },
  {
   "cell_type": "code",
   "execution_count": 15,
   "metadata": {},
   "outputs": [
    {
     "data": {
      "text/plain": [
       "0     3081445\n",
       "1         NaN\n",
       "2      939759\n",
       "3     1390901\n",
       "4      670717\n",
       "5     4561386\n",
       "0     1558931\n",
       "1     1453125\n",
       "2     2233145\n",
       "3     2364097\n",
       "4      679019\n",
       "5         NaN\n",
       "0         NaN\n",
       "1     3455936\n",
       "2     5038598\n",
       "3     2727005\n",
       "4     1536358\n",
       "5     3081445\n",
       "0     5123362\n",
       "1      696428\n",
       "2      806083\n",
       "3     6556862\n",
       "4     3333382\n",
       "5     1558931\n",
       "0     2489527\n",
       "1      349215\n",
       "2     3342840\n",
       "3     1506295\n",
       "4    19334329\n",
       "5     2630239\n",
       "0      543273\n",
       "1     2455167\n",
       "2      419713\n",
       "3     3331859\n",
       "4    13367298\n",
       "5     1444150\n",
       "0     4561386\n",
       "1     1051703\n",
       "2    10131373\n",
       "3     5049925\n",
       "4      353677\n",
       "5     5913084\n",
       "0     5913084\n",
       "1     1942789\n",
       "2     1990780\n",
       "3     6534215\n",
       "4     1869213\n",
       "5      543273\n",
       "0     2630239\n",
       "1     1841615\n",
       "2      478041\n",
       "3      340810\n",
       "4    10045763\n",
       "5     5123362\n",
       "0     1444150\n",
       "1      318031\n",
       "2     4195682\n",
       "3     3497739\n",
       "4      937789\n",
       "5     2890732\n",
       "Name: FemalePop, dtype: object"
      ]
     },
     "execution_count": 15,
     "metadata": {},
     "output_type": "execute_result"
    }
   ],
   "source": [
    "# Let's check for NaN values\n",
    "us_census['FemalePop']"
   ]
  },
  {
   "cell_type": "code",
   "execution_count": 16,
   "metadata": {},
   "outputs": [],
   "source": [
    "# Now filling NaN values of FemalePop with TotalPop - MalePop\n",
    "def fillFemalePop(row):\n",
    "    if(np.isnan(float(row[\"FemalePop\"]))):\n",
    "        return row[\"TotalPop\"] - row[\"MalePop\"]\n",
    "    return row[\"FemalePop\"]\n",
    "\n",
    "us_census[\"FemalePop\"] = us_census.apply(fillFemalePop, axis = 1)\n",
    "# Changing FemalePop Type\n",
    "us_census = us_census.astype({'FemalePop': 'int32'}, copy=False)"
   ]
  },
  {
   "cell_type": "code",
   "execution_count": 17,
   "metadata": {},
   "outputs": [
    {
     "data": {
      "text/plain": [
       "0     3081445\n",
       "1      504536\n",
       "2      939759\n",
       "3     1390901\n",
       "4      670717\n",
       "5     4561386\n",
       "0     1558931\n",
       "1     1453125\n",
       "2     2233145\n",
       "3     2364097\n",
       "4      679019\n",
       "5     3057895\n",
       "0     3057895\n",
       "1     3455936\n",
       "2     5038598\n",
       "3     2727005\n",
       "4     1536358\n",
       "5     3081445\n",
       "0     5123362\n",
       "1      696428\n",
       "2      806083\n",
       "3     6556862\n",
       "4     3333382\n",
       "5     1558931\n",
       "0     2489527\n",
       "1      349215\n",
       "2     3342840\n",
       "3     1506295\n",
       "4    19334329\n",
       "5     2630239\n",
       "0      543273\n",
       "1     2455167\n",
       "2      419713\n",
       "3     3331859\n",
       "4    13367298\n",
       "5     1444150\n",
       "0     4561386\n",
       "1     1051703\n",
       "2    10131373\n",
       "3     5049925\n",
       "4      353677\n",
       "5     5913084\n",
       "0     5913084\n",
       "1     1942789\n",
       "2     1990780\n",
       "3     6534215\n",
       "4     1869213\n",
       "5      543273\n",
       "0     2630239\n",
       "1     1841615\n",
       "2      478041\n",
       "3      340810\n",
       "4    10045763\n",
       "5     5123362\n",
       "0     1444150\n",
       "1      318031\n",
       "2     4195682\n",
       "3     3497739\n",
       "4      937789\n",
       "5     2890732\n",
       "Name: FemalePop, dtype: int32"
      ]
     },
     "execution_count": 17,
     "metadata": {},
     "output_type": "execute_result"
    }
   ],
   "source": [
    "# Checking if above algo correctly work!!!\n",
    "us_census['FemalePop']"
   ]
  },
  {
   "cell_type": "markdown",
   "metadata": {},
   "source": [
    "## 10."
   ]
  },
  {
   "cell_type": "code",
   "execution_count": 18,
   "metadata": {},
   "outputs": [
    {
     "data": {
      "text/plain": [
       "0    False\n",
       "1    False\n",
       "2    False\n",
       "3    False\n",
       "4    False\n",
       "5    False\n",
       "0    False\n",
       "1    False\n",
       "2    False\n",
       "3    False\n",
       "4    False\n",
       "5    False\n",
       "0     True\n",
       "1    False\n",
       "2    False\n",
       "3    False\n",
       "4    False\n",
       "5     True\n",
       "0    False\n",
       "1    False\n",
       "2    False\n",
       "3    False\n",
       "4    False\n",
       "5     True\n",
       "0    False\n",
       "1    False\n",
       "2    False\n",
       "3    False\n",
       "4    False\n",
       "5    False\n",
       "0    False\n",
       "1    False\n",
       "2    False\n",
       "3    False\n",
       "4    False\n",
       "5    False\n",
       "0     True\n",
       "1    False\n",
       "2    False\n",
       "3    False\n",
       "4    False\n",
       "5    False\n",
       "0     True\n",
       "1    False\n",
       "2    False\n",
       "3    False\n",
       "4    False\n",
       "5     True\n",
       "0     True\n",
       "1    False\n",
       "2    False\n",
       "3    False\n",
       "4    False\n",
       "5     True\n",
       "0     True\n",
       "1    False\n",
       "2    False\n",
       "3    False\n",
       "4    False\n",
       "5    False\n",
       "dtype: bool"
      ]
     },
     "execution_count": 18,
     "metadata": {},
     "output_type": "execute_result"
    }
   ],
   "source": [
    "# Checking for duplicate values\n",
    "us_census.duplicated()"
   ]
  },
  {
   "cell_type": "markdown",
   "metadata": {},
   "source": [
    "## 11."
   ]
  },
  {
   "cell_type": "code",
   "execution_count": 19,
   "metadata": {},
   "outputs": [],
   "source": [
    "# Removing Duplicate Values\n",
    "us_census = us_census.drop_duplicates()"
   ]
  },
  {
   "cell_type": "markdown",
   "metadata": {},
   "source": [
    "## 12."
   ]
  },
  {
   "cell_type": "code",
   "execution_count": 20,
   "metadata": {},
   "outputs": [
    {
     "data": {
      "image/png": "[encoded data removed]",
      "text/plain": [
       "<Figure size 432x288 with 1 Axes>"
      ]
     },
     "metadata": {
      "needs_background": "light"
     },
     "output_type": "display_data"
    }
   ],
   "source": [
    "# Now plotting the data\n",
    "plt.scatter(us_census['FemalePop'], us_census['Income'])\n",
    "plt.show()"
   ]
  },
  {
   "cell_type": "markdown",
   "metadata": {},
   "source": [
    "## 13."
   ]
  },
  {
   "cell_type": "code",
   "execution_count": 21,
   "metadata": {},
   "outputs": [
    {
     "data": {
      "text/plain": [
       "Index(['State', 'TotalPop', 'Hispanic', 'White', 'Black', 'Native', 'Asian',\n",
       "       'Pacific', 'Income', 'GenderPop', 'MalePop', 'FemalePop'],\n",
       "      dtype='object')"
      ]
     },
     "execution_count": 21,
     "metadata": {},
     "output_type": "execute_result"
    }
   ],
   "source": [
    "us_census.columns"
   ]
  },
  {
   "cell_type": "code",
   "execution_count": 22,
   "metadata": {},
   "outputs": [
    {
     "data": {
      "text/html": [
       "<div>\n",
       "<style scoped>\n",
       "    .dataframe tbody tr th:only-of-type {\n",
       "        vertical-align: middle;\n",
       "    }\n",
       "\n",
       "    .dataframe tbody tr th {\n",
       "        vertical-align: top;\n",
       "    }\n",
       "\n",
       "    .dataframe thead th {\n",
       "        text-align: right;\n",
       "    }\n",
       "</style>\n",
       "<table border=\"1\" class=\"dataframe\">\n",
       "  <thead>\n",
       "    <tr style=\"text-align: right;\">\n",
       "      <th></th>\n",
       "      <th>State</th>\n",
       "      <th>TotalPop</th>\n",
       "      <th>Hispanic</th>\n",
       "      <th>White</th>\n",
       "      <th>Black</th>\n",
       "      <th>Native</th>\n",
       "      <th>Asian</th>\n",
       "      <th>Pacific</th>\n",
       "      <th>Income</th>\n",
       "      <th>GenderPop</th>\n",
       "      <th>MalePop</th>\n",
       "      <th>FemalePop</th>\n",
       "    </tr>\n",
       "  </thead>\n",
       "  <tbody>\n",
       "    <tr>\n",
       "      <th>0</th>\n",
       "      <td>Missouri</td>\n",
       "      <td>6045448</td>\n",
       "      <td>4.037247838616718%</td>\n",
       "      <td>77.508069164265%</td>\n",
       "      <td>14.122118155619594%</td>\n",
       "      <td>0.36332853025936646%</td>\n",
       "      <td>1.6244956772334296%</td>\n",
       "      <td>0.10165706051873193%</td>\n",
       "      <td>49763.987726</td>\n",
       "      <td>2964003M_3081445F</td>\n",
       "      <td>2964003</td>\n",
       "      <td>3081445</td>\n",
       "    </tr>\n",
       "    <tr>\n",
       "      <th>1</th>\n",
       "      <td>Montana</td>\n",
       "      <td>1014699</td>\n",
       "      <td>3.2688888888888896%</td>\n",
       "      <td>86.41555555555554%</td>\n",
       "      <td>0.4292592592592591%</td>\n",
       "      <td>7.0607407407407425%</td>\n",
       "      <td>0.5703703703703705%</td>\n",
       "      <td>0.07222222222222222%</td>\n",
       "      <td>47645.682836</td>\n",
       "      <td>510163M_F</td>\n",
       "      <td>510163</td>\n",
       "      <td>504536</td>\n",
       "    </tr>\n",
       "    <tr>\n",
       "      <th>2</th>\n",
       "      <td>Nebraska</td>\n",
       "      <td>1869365</td>\n",
       "      <td>9.203759398496235%</td>\n",
       "      <td>81.13947368421056%</td>\n",
       "      <td>4.956203007518794%</td>\n",
       "      <td>0.8644736842105263%</td>\n",
       "      <td>1.8590225563909788%</td>\n",
       "      <td>0.05714285714285715%</td>\n",
       "      <td>55916.469697</td>\n",
       "      <td>929606M_939759F</td>\n",
       "      <td>929606</td>\n",
       "      <td>939759</td>\n",
       "    </tr>\n",
       "    <tr>\n",
       "      <th>3</th>\n",
       "      <td>Nevada</td>\n",
       "      <td>2798636</td>\n",
       "      <td>27.100883652430046%</td>\n",
       "      <td>53.23932253313698%</td>\n",
       "      <td>7.739617083946994%</td>\n",
       "      <td>1.0871870397643593%</td>\n",
       "      <td>7.095729013254786%</td>\n",
       "      <td>0.5745213549337267%</td>\n",
       "      <td>55526.525074</td>\n",
       "      <td>1407735M_1390901F</td>\n",
       "      <td>1407735</td>\n",
       "      <td>1390901</td>\n",
       "    </tr>\n",
       "    <tr>\n",
       "      <th>4</th>\n",
       "      <td>New Hampshire</td>\n",
       "      <td>1324201</td>\n",
       "      <td>3.3219178082191796%</td>\n",
       "      <td>91.31917808219184%</td>\n",
       "      <td>1.2277397260273974%</td>\n",
       "      <td>0.14280821917808229%</td>\n",
       "      <td>2.191438356164382%</td>\n",
       "      <td>0.016095890410958904%</td>\n",
       "      <td>68728.859589</td>\n",
       "      <td>653484M_670717F</td>\n",
       "      <td>653484</td>\n",
       "      <td>670717</td>\n",
       "    </tr>\n",
       "  </tbody>\n",
       "</table>\n",
       "</div>"
      ],
      "text/plain": [
       "           State  TotalPop             Hispanic               White  \\\n",
       "0       Missouri   6045448   4.037247838616718%    77.508069164265%   \n",
       "1        Montana   1014699  3.2688888888888896%  86.41555555555554%   \n",
       "2       Nebraska   1869365   9.203759398496235%  81.13947368421056%   \n",
       "3         Nevada   2798636  27.100883652430046%  53.23932253313698%   \n",
       "4  New Hampshire   1324201  3.3219178082191796%  91.31917808219184%   \n",
       "\n",
       "                 Black                Native                Asian  \\\n",
       "0  14.122118155619594%  0.36332853025936646%  1.6244956772334296%   \n",
       "1  0.4292592592592591%   7.0607407407407425%  0.5703703703703705%   \n",
       "2   4.956203007518794%   0.8644736842105263%  1.8590225563909788%   \n",
       "3   7.739617083946994%   1.0871870397643593%   7.095729013254786%   \n",
       "4  1.2277397260273974%  0.14280821917808229%   2.191438356164382%   \n",
       "\n",
       "                 Pacific        Income          GenderPop  MalePop  FemalePop  \n",
       "0   0.10165706051873193%  49763.987726  2964003M_3081445F  2964003    3081445  \n",
       "1   0.07222222222222222%  47645.682836          510163M_F   510163     504536  \n",
       "2   0.05714285714285715%  55916.469697    929606M_939759F   929606     939759  \n",
       "3    0.5745213549337267%  55526.525074  1407735M_1390901F  1407735    1390901  \n",
       "4  0.016095890410958904%  68728.859589    653484M_670717F   653484     670717  "
      ]
     },
     "execution_count": 22,
     "metadata": {},
     "output_type": "execute_result"
    }
   ],
   "source": [
    "us_census.head()"
   ]
  },
  {
   "cell_type": "code",
   "execution_count": 23,
   "metadata": {},
   "outputs": [
    {
     "data": {
      "text/html": [
       "<div>\n",
       "<style scoped>\n",
       "    .dataframe tbody tr th:only-of-type {\n",
       "        vertical-align: middle;\n",
       "    }\n",
       "\n",
       "    .dataframe tbody tr th {\n",
       "        vertical-align: top;\n",
       "    }\n",
       "\n",
       "    .dataframe thead th {\n",
       "        text-align: right;\n",
       "    }\n",
       "</style>\n",
       "<table border=\"1\" class=\"dataframe\">\n",
       "  <thead>\n",
       "    <tr style=\"text-align: right;\">\n",
       "      <th></th>\n",
       "      <th>State</th>\n",
       "      <th>TotalPop</th>\n",
       "      <th>Hispanic</th>\n",
       "      <th>White</th>\n",
       "      <th>Black</th>\n",
       "      <th>Native</th>\n",
       "      <th>Asian</th>\n",
       "      <th>Pacific</th>\n",
       "      <th>Income</th>\n",
       "      <th>GenderPop</th>\n",
       "      <th>MalePop</th>\n",
       "      <th>FemalePop</th>\n",
       "    </tr>\n",
       "  </thead>\n",
       "  <tbody>\n",
       "    <tr>\n",
       "      <th>0</th>\n",
       "      <td>Missouri</td>\n",
       "      <td>6045448</td>\n",
       "      <td>4.037247838616718</td>\n",
       "      <td>77.508069164265</td>\n",
       "      <td>14.122118155619594</td>\n",
       "      <td>0.36332853025936646</td>\n",
       "      <td>1.6244956772334296</td>\n",
       "      <td>0.10165706051873193</td>\n",
       "      <td>49763.987726</td>\n",
       "      <td>2964003M_3081445F</td>\n",
       "      <td>2964003</td>\n",
       "      <td>3081445</td>\n",
       "    </tr>\n",
       "    <tr>\n",
       "      <th>1</th>\n",
       "      <td>Montana</td>\n",
       "      <td>1014699</td>\n",
       "      <td>3.2688888888888896</td>\n",
       "      <td>86.41555555555554</td>\n",
       "      <td>0.4292592592592591</td>\n",
       "      <td>7.0607407407407425</td>\n",
       "      <td>0.5703703703703705</td>\n",
       "      <td>0.07222222222222222</td>\n",
       "      <td>47645.682836</td>\n",
       "      <td>510163M_F</td>\n",
       "      <td>510163</td>\n",
       "      <td>504536</td>\n",
       "    </tr>\n",
       "    <tr>\n",
       "      <th>2</th>\n",
       "      <td>Nebraska</td>\n",
       "      <td>1869365</td>\n",
       "      <td>9.203759398496235</td>\n",
       "      <td>81.13947368421056</td>\n",
       "      <td>4.956203007518794</td>\n",
       "      <td>0.8644736842105263</td>\n",
       "      <td>1.8590225563909788</td>\n",
       "      <td>0.05714285714285715</td>\n",
       "      <td>55916.469697</td>\n",
       "      <td>929606M_939759F</td>\n",
       "      <td>929606</td>\n",
       "      <td>939759</td>\n",
       "    </tr>\n",
       "    <tr>\n",
       "      <th>3</th>\n",
       "      <td>Nevada</td>\n",
       "      <td>2798636</td>\n",
       "      <td>27.100883652430046</td>\n",
       "      <td>53.23932253313698</td>\n",
       "      <td>7.739617083946994</td>\n",
       "      <td>1.0871870397643593</td>\n",
       "      <td>7.095729013254786</td>\n",
       "      <td>0.5745213549337267</td>\n",
       "      <td>55526.525074</td>\n",
       "      <td>1407735M_1390901F</td>\n",
       "      <td>1407735</td>\n",
       "      <td>1390901</td>\n",
       "    </tr>\n",
       "    <tr>\n",
       "      <th>4</th>\n",
       "      <td>New Hampshire</td>\n",
       "      <td>1324201</td>\n",
       "      <td>3.3219178082191796</td>\n",
       "      <td>91.31917808219184</td>\n",
       "      <td>1.2277397260273974</td>\n",
       "      <td>0.14280821917808229</td>\n",
       "      <td>2.191438356164382</td>\n",
       "      <td>0.016095890410958904</td>\n",
       "      <td>68728.859589</td>\n",
       "      <td>653484M_670717F</td>\n",
       "      <td>653484</td>\n",
       "      <td>670717</td>\n",
       "    </tr>\n",
       "  </tbody>\n",
       "</table>\n",
       "</div>"
      ],
      "text/plain": [
       "           State  TotalPop            Hispanic              White  \\\n",
       "0       Missouri   6045448   4.037247838616718    77.508069164265   \n",
       "1        Montana   1014699  3.2688888888888896  86.41555555555554   \n",
       "2       Nebraska   1869365   9.203759398496235  81.13947368421056   \n",
       "3         Nevada   2798636  27.100883652430046  53.23932253313698   \n",
       "4  New Hampshire   1324201  3.3219178082191796  91.31917808219184   \n",
       "\n",
       "                Black               Native               Asian  \\\n",
       "0  14.122118155619594  0.36332853025936646  1.6244956772334296   \n",
       "1  0.4292592592592591   7.0607407407407425  0.5703703703703705   \n",
       "2   4.956203007518794   0.8644736842105263  1.8590225563909788   \n",
       "3   7.739617083946994   1.0871870397643593   7.095729013254786   \n",
       "4  1.2277397260273974  0.14280821917808229   2.191438356164382   \n",
       "\n",
       "                Pacific        Income          GenderPop  MalePop  FemalePop  \n",
       "0   0.10165706051873193  49763.987726  2964003M_3081445F  2964003    3081445  \n",
       "1   0.07222222222222222  47645.682836          510163M_F   510163     504536  \n",
       "2   0.05714285714285715  55916.469697    929606M_939759F   929606     939759  \n",
       "3    0.5745213549337267  55526.525074  1407735M_1390901F  1407735    1390901  \n",
       "4  0.016095890410958904  68728.859589    653484M_670717F   653484     670717  "
      ]
     },
     "execution_count": 23,
     "metadata": {},
     "output_type": "execute_result"
    }
   ],
   "source": [
    "# First remove '%' sign\n",
    "pattern = \"([0-9]*\\.[0-9]*)\"\n",
    "races = [\"Hispanic\", \"White\", \"Black\", \"Native\", \"Asian\", \"Pacific\"]\n",
    "# Removing '%' from all races\n",
    "for race in races:\n",
    "    us_census[race] = us_census[race].str.extract(pattern)\n",
    "# Confirming\n",
    "us_census.head()"
   ]
  },
  {
   "cell_type": "code",
   "execution_count": 24,
   "metadata": {},
   "outputs": [],
   "source": [
    "# Converting Data Types\n",
    "for x in races:\n",
    "    us_census = us_census.astype({x: \"double\"})"
   ]
  },
  {
   "cell_type": "code",
   "execution_count": 25,
   "metadata": {},
   "outputs": [
    {
     "data": {
      "text/plain": [
       "0"
      ]
     },
     "execution_count": 25,
     "metadata": {},
     "output_type": "execute_result"
    }
   ],
   "source": [
    "# Checking NaN values\n",
    "# Hispanic\n",
    "np.isnan(us_census[\"Hispanic\"]).sum()"
   ]
  },
  {
   "cell_type": "code",
   "execution_count": 26,
   "metadata": {},
   "outputs": [
    {
     "data": {
      "text/plain": [
       "0"
      ]
     },
     "execution_count": 26,
     "metadata": {},
     "output_type": "execute_result"
    }
   ],
   "source": [
    "# White\n",
    "np.isnan(us_census[\"White\"]).sum()"
   ]
  },
  {
   "cell_type": "code",
   "execution_count": 27,
   "metadata": {},
   "outputs": [
    {
     "data": {
      "text/plain": [
       "0"
      ]
     },
     "execution_count": 27,
     "metadata": {},
     "output_type": "execute_result"
    }
   ],
   "source": [
    "# Black\n",
    "np.isnan(us_census[\"Black\"]).sum()"
   ]
  },
  {
   "cell_type": "code",
   "execution_count": 28,
   "metadata": {},
   "outputs": [
    {
     "data": {
      "text/plain": [
       "0"
      ]
     },
     "execution_count": 28,
     "metadata": {},
     "output_type": "execute_result"
    }
   ],
   "source": [
    "# Native\n",
    "np.isnan(us_census[\"Native\"]).sum()"
   ]
  },
  {
   "cell_type": "code",
   "execution_count": 29,
   "metadata": {},
   "outputs": [
    {
     "data": {
      "text/plain": [
       "0"
      ]
     },
     "execution_count": 29,
     "metadata": {},
     "output_type": "execute_result"
    }
   ],
   "source": [
    "# Asian\n",
    "np.isnan(us_census[\"Asian\"]).sum()"
   ]
  },
  {
   "cell_type": "code",
   "execution_count": 30,
   "metadata": {},
   "outputs": [
    {
     "data": {
      "text/plain": [
       "4"
      ]
     },
     "execution_count": 30,
     "metadata": {},
     "output_type": "execute_result"
    }
   ],
   "source": [
    "# Pacific\n",
    "np.isnan(us_census[\"Pacific\"]).sum() # Four Values are NaN"
   ]
  },
  {
   "cell_type": "code",
   "execution_count": 31,
   "metadata": {},
   "outputs": [
    {
     "name": "stdout",
     "output_type": "stream",
     "text": [
      "So we have mean percantage = 97.30173130260293\n"
     ]
    }
   ],
   "source": [
    "# Filling NaN values of Pacific column\n",
    "\n",
    "# First Step, Get mean of sum of total % of every row\n",
    "\n",
    "# Calculating Total Sum per Row\n",
    "totalSumPerRow = us_census.apply(axis = 1, func = lambda x: x[\"Hispanic\"] + x[\"White\"] + x[\"Black\"] + x[\"Native\"] + x[\"Asian\"] + x[\"Pacific\"])\n",
    "\n",
    "# Now Calculating Mean of totalSumPerRow, which will be used for further calc\n",
    "meanPercentage = totalSumPerRow.mean()\n",
    "print(\"So we have mean percantage =\", meanPercentage) \n",
    "\n",
    "# Now defining a func, which will return new Pacific percentage column\n",
    "def removeNan(stateRow):\n",
    "    # Returning calculated value\n",
    "    if(np.isnan(stateRow[\"Pacific\"])):\n",
    "        return np.abs(meanPercentage - stateRow[\"Hispanic\"] - stateRow[\"White\"] - stateRow[\"Black\"] - stateRow[\"Native\"] - stateRow[\"Asian\"])\n",
    "    return stateRow[\"Pacific\"]\n",
    "# Applying above func\n",
    "newPacificData = us_census.apply(removeNan, axis = 1)\n",
    "\n",
    "# Replacing with old data\n",
    "us_census[\"Pacific\"] = newPacificData"
   ]
  },
  {
   "cell_type": "code",
   "execution_count": 32,
   "metadata": {},
   "outputs": [
    {
     "data": {
      "text/plain": [
       "0"
      ]
     },
     "execution_count": 32,
     "metadata": {},
     "output_type": "execute_result"
    }
   ],
   "source": [
    "# Checking for duplicated rows\n",
    "us_census.duplicated().sum() # 0 duplicate row"
   ]
  },
  {
   "cell_type": "code",
   "execution_count": 33,
   "metadata": {},
   "outputs": [
    {
     "data": {
      "text/plain": [
       "array([[<AxesSubplot:title={'center':'Hispanic'}>]], dtype=object)"
      ]
     },
     "execution_count": 33,
     "metadata": {},
     "output_type": "execute_result"
    },
    {
     "data": {
      "image/png": "[encoded data removed]",
      "text/plain": [
       "<Figure size 432x288 with 1 Axes>"
      ]
     },
     "metadata": {
      "needs_background": "light"
     },
     "output_type": "display_data"
    }
   ],
   "source": [
    "# Histograms\n",
    "\n",
    "# Hispanic\n",
    "us_census.hist(column=\"Hispanic\")"
   ]
  },
  {
   "cell_type": "code",
   "execution_count": 34,
   "metadata": {},
   "outputs": [
    {
     "data": {
      "text/plain": [
       "array([[<AxesSubplot:title={'center':'White'}>]], dtype=object)"
      ]
     },
     "execution_count": 34,
     "metadata": {},
     "output_type": "execute_result"
    },
    {
     "data": {
      "image/png": "[encoded data removed]",
      "text/plain": [
       "<Figure size 432x288 with 1 Axes>"
      ]
     },
     "metadata": {
      "needs_background": "light"
     },
     "output_type": "display_data"
    }
   ],
   "source": [
    "# White\n",
    "us_census.hist(column=\"White\")"
   ]
  },
  {
   "cell_type": "code",
   "execution_count": 35,
   "metadata": {},
   "outputs": [
    {
     "data": {
      "text/plain": [
       "array([[<AxesSubplot:title={'center':'Black'}>]], dtype=object)"
      ]
     },
     "execution_count": 35,
     "metadata": {},
     "output_type": "execute_result"
    },
    {
     "data": {
      "image/png": "[encoded data removed]",
      "text/plain": [
       "<Figure size 432x288 with 1 Axes>"
      ]
     },
     "metadata": {
      "needs_background": "light"
     },
     "output_type": "display_data"
    }
   ],
   "source": [
    "# Black\n",
    "us_census.hist(column=\"Black\")"
   ]
  },
  {
   "cell_type": "code",
   "execution_count": 36,
   "metadata": {},
   "outputs": [
    {
     "data": {
      "text/plain": [
       "array([[<AxesSubplot:title={'center':'Native'}>]], dtype=object)"
      ]
     },
     "execution_count": 36,
     "metadata": {},
     "output_type": "execute_result"
    },
    {
     "data": {
      "image/png": "[encoded data removed]",
      "text/plain": [
       "<Figure size 432x288 with 1 Axes>"
      ]
     },
     "metadata": {
      "needs_background": "light"
     },
     "output_type": "display_data"
    }
   ],
   "source": [
    "# Native\n",
    "us_census.hist(column = \"Native\")"
   ]
  },
  {
   "cell_type": "code",
   "execution_count": 37,
   "metadata": {},
   "outputs": [
    {
     "data": {
      "text/plain": [
       "array([[<AxesSubplot:title={'center':'Asian'}>]], dtype=object)"
      ]
     },
     "execution_count": 37,
     "metadata": {},
     "output_type": "execute_result"
    },
    {
     "data": {
      "image/png": "[encoded data removed]",
      "text/plain": [
       "<Figure size 432x288 with 1 Axes>"
      ]
     },
     "metadata": {
      "needs_background": "light"
     },
     "output_type": "display_data"
    }
   ],
   "source": [
    "# Asian\n",
    "us_census.hist(column = \"Asian\")"
   ]
  },
  {
   "cell_type": "code",
   "execution_count": 38,
   "metadata": {},
   "outputs": [
    {
     "data": {
      "text/plain": [
       "array([[<AxesSubplot:title={'center':'Pacific'}>]], dtype=object)"
      ]
     },
     "execution_count": 38,
     "metadata": {},
     "output_type": "execute_result"
    },
    {
     "data": {
      "image/png": "[encoded data removed]",
      "text/plain": [
       "<Figure size 432x288 with 1 Axes>"
      ]
     },
     "metadata": {
      "needs_background": "light"
     },
     "output_type": "display_data"
    }
   ],
   "source": [
    "# Pacific\n",
    "us_census.hist(column = \"Pacific\")"
   ]
  },
  {
   "cell_type": "markdown",
   "metadata": {},
   "source": [
    "## 15."
   ]
  },
  {
   "cell_type": "code",
   "execution_count": 39,
   "metadata": {},
   "outputs": [],
   "source": [
    "# Displaying a pie chart of population distribution between races\n",
    "\n",
    "# First Caculating Total Population of each race\n",
    "totalPop = np.zeros(6) # Total races are 6\n",
    "\n",
    "# Defining a func\n",
    "def calculatePop(state):\n",
    "    raceCounter = 0\n",
    "    totalPopOfState = state[\"TotalPop\"]\n",
    "    for race in races:\n",
    "        # multiplying total pop with % of race\n",
    "        totalPop[raceCounter] += totalPopOfState * state[race]\n",
    "        raceCounter += 1\n",
    "\n",
    "# Applying\n",
    "us_census.apply(calculatePop, axis = 1);"
   ]
  },
  {
   "cell_type": "code",
   "execution_count": 40,
   "metadata": {},
   "outputs": [
    {
     "data": {
      "image/png": "[encoded data removed]",
      "text/plain": [
       "<Figure size 432x288 with 1 Axes>"
      ]
     },
     "metadata": {},
     "output_type": "display_data"
    }
   ],
   "source": [
    "# Displaying Pie Chart\n",
    "plt.pie(totalPop, labels = races)\n",
    "plt.show()"
   ]
  },
  {
   "cell_type": "code",
   "execution_count": 41,
   "metadata": {},
   "outputs": [
    {
     "data": {
      "image/png": "[encoded data removed]",
      "text/plain": [
       "<Figure size 1332x756 with 1 Axes>"
      ]
     },
     "metadata": {
      "needs_background": "light"
     },
     "output_type": "display_data"
    }
   ],
   "source": [
    "# Displaying gender population distribution over each state\n",
    "\n",
    "labels = us_census[\"State\"]\n",
    "male_pop = us_census[\"MalePop\"]\n",
    "female_pop = us_census[\"FemalePop\"]\n",
    "\n",
    "x = np.arange(len(labels))\n",
    "width = 0.35\n",
    "\n",
    "fig, ax = plt.subplots()\n",
    "rects1 = ax.bar(x - width/2, male_pop, width, label='Men')\n",
    "rects2 = ax.bar(x + width/2, female_pop, width, label='Women')\n",
    "\n",
    "# Add some text for labels, title and custom x-axis tick labels, etc.\n",
    "ax.set_ylabel('Population')\n",
    "ax.set_title('Gender Population of each state')\n",
    "ax.set_xticks(x)\n",
    "ax.legend()\n",
    "\n",
    "fig.tight_layout()\n",
    "fig.set_size_inches(18.5, 10.5)\n",
    "\n",
    "plt.show()"
   ]
  },
  {
   "cell_type": "markdown",
   "metadata": {},
   "source": [
    "# Part 2"
   ]
  },
  {
   "cell_type": "markdown",
   "metadata": {},
   "source": [
    "## 1"
   ]
  },
  {
   "cell_type": "code",
   "execution_count": 44,
   "metadata": {},
   "outputs": [],
   "source": [
    "inventory = pd.read_csv(\"inventory.csv\")"
   ]
  },
  {
   "cell_type": "markdown",
   "metadata": {},
   "source": [
    "## 2"
   ]
  },
  {
   "cell_type": "code",
   "execution_count": 49,
   "metadata": {},
   "outputs": [
    {
     "data": {
      "text/html": [
       "<div>\n",
       "<style scoped>\n",
       "    .dataframe tbody tr th:only-of-type {\n",
       "        vertical-align: middle;\n",
       "    }\n",
       "\n",
       "    .dataframe tbody tr th {\n",
       "        vertical-align: top;\n",
       "    }\n",
       "\n",
       "    .dataframe thead th {\n",
       "        text-align: right;\n",
       "    }\n",
       "</style>\n",
       "<table border=\"1\" class=\"dataframe\">\n",
       "  <thead>\n",
       "    <tr style=\"text-align: right;\">\n",
       "      <th></th>\n",
       "      <th>location</th>\n",
       "      <th>product_type</th>\n",
       "      <th>product_description</th>\n",
       "      <th>quantity</th>\n",
       "      <th>price</th>\n",
       "    </tr>\n",
       "  </thead>\n",
       "  <tbody>\n",
       "    <tr>\n",
       "      <th>0</th>\n",
       "      <td>Staten Island</td>\n",
       "      <td>seeds</td>\n",
       "      <td>daisy</td>\n",
       "      <td>4</td>\n",
       "      <td>6.99</td>\n",
       "    </tr>\n",
       "    <tr>\n",
       "      <th>1</th>\n",
       "      <td>Staten Island</td>\n",
       "      <td>seeds</td>\n",
       "      <td>calla lily</td>\n",
       "      <td>46</td>\n",
       "      <td>19.99</td>\n",
       "    </tr>\n",
       "    <tr>\n",
       "      <th>2</th>\n",
       "      <td>Staten Island</td>\n",
       "      <td>seeds</td>\n",
       "      <td>tomato</td>\n",
       "      <td>85</td>\n",
       "      <td>13.99</td>\n",
       "    </tr>\n",
       "    <tr>\n",
       "      <th>3</th>\n",
       "      <td>Staten Island</td>\n",
       "      <td>garden tools</td>\n",
       "      <td>rake</td>\n",
       "      <td>4</td>\n",
       "      <td>13.99</td>\n",
       "    </tr>\n",
       "    <tr>\n",
       "      <th>4</th>\n",
       "      <td>Staten Island</td>\n",
       "      <td>garden tools</td>\n",
       "      <td>wheelbarrow</td>\n",
       "      <td>0</td>\n",
       "      <td>89.99</td>\n",
       "    </tr>\n",
       "    <tr>\n",
       "      <th>5</th>\n",
       "      <td>Staten Island</td>\n",
       "      <td>garden tools</td>\n",
       "      <td>spade</td>\n",
       "      <td>93</td>\n",
       "      <td>19.99</td>\n",
       "    </tr>\n",
       "    <tr>\n",
       "      <th>6</th>\n",
       "      <td>Staten Island</td>\n",
       "      <td>pest_control</td>\n",
       "      <td>insect killer</td>\n",
       "      <td>74</td>\n",
       "      <td>12.99</td>\n",
       "    </tr>\n",
       "    <tr>\n",
       "      <th>7</th>\n",
       "      <td>Staten Island</td>\n",
       "      <td>pest_control</td>\n",
       "      <td>weed killer</td>\n",
       "      <td>8</td>\n",
       "      <td>23.99</td>\n",
       "    </tr>\n",
       "    <tr>\n",
       "      <th>8</th>\n",
       "      <td>Staten Island</td>\n",
       "      <td>planter</td>\n",
       "      <td>20 inch terracotta planter</td>\n",
       "      <td>0</td>\n",
       "      <td>17.99</td>\n",
       "    </tr>\n",
       "    <tr>\n",
       "      <th>9</th>\n",
       "      <td>Staten Island</td>\n",
       "      <td>planter</td>\n",
       "      <td>8 inch plastic planter</td>\n",
       "      <td>53</td>\n",
       "      <td>3.99</td>\n",
       "    </tr>\n",
       "  </tbody>\n",
       "</table>\n",
       "</div>"
      ],
      "text/plain": [
       "        location  product_type         product_description  quantity  price\n",
       "0  Staten Island         seeds                       daisy         4   6.99\n",
       "1  Staten Island         seeds                  calla lily        46  19.99\n",
       "2  Staten Island         seeds                      tomato        85  13.99\n",
       "3  Staten Island  garden tools                        rake         4  13.99\n",
       "4  Staten Island  garden tools                 wheelbarrow         0  89.99\n",
       "5  Staten Island  garden tools                       spade        93  19.99\n",
       "6  Staten Island  pest_control               insect killer        74  12.99\n",
       "7  Staten Island  pest_control                 weed killer         8  23.99\n",
       "8  Staten Island       planter  20 inch terracotta planter         0  17.99\n",
       "9  Staten Island       planter      8 inch plastic planter        53   3.99"
      ]
     },
     "execution_count": 49,
     "metadata": {},
     "output_type": "execute_result"
    }
   ],
   "source": [
    "inventory[:10] # First 10 rows"
   ]
  },
  {
   "cell_type": "markdown",
   "metadata": {},
   "source": [
    "## 3"
   ]
  },
  {
   "cell_type": "code",
   "execution_count": 57,
   "metadata": {},
   "outputs": [],
   "source": [
    "staten_island = pd.DataFrame(inventory[:10], copy=True) # A new copy"
   ]
  },
  {
   "cell_type": "markdown",
   "metadata": {},
   "source": [
    "## 4"
   ]
  },
  {
   "cell_type": "code",
   "execution_count": 68,
   "metadata": {},
   "outputs": [],
   "source": [
    "product_request = pd.Series(staten_island[\"product_description\"], copy=True)"
   ]
  },
  {
   "cell_type": "markdown",
   "metadata": {},
   "source": [
    "## 5"
   ]
  },
  {
   "cell_type": "code",
   "execution_count": 78,
   "metadata": {},
   "outputs": [],
   "source": [
    "# Select all rows where location is equal to Brooklyn and product_type is equal \n",
    "# to seeds and save them to the variable seed_request\n",
    "location = inventory[\"location\"]\n",
    "brooklyn = inventory[location == \"Brooklyn\"]\n",
    "product_index = brooklyn[\"product_type\"][brooklyn[\"product_type\"] == \"seeds\"].index\n",
    "seed_request = pd.DataFrame(inventory.iloc[product_index], copy = True)"
   ]
  },
  {
   "cell_type": "markdown",
   "metadata": {},
   "source": [
    "## 6"
   ]
  },
  {
   "cell_type": "code",
   "execution_count": 79,
   "metadata": {},
   "outputs": [],
   "source": [
    "inventory[\"in_stock\"] = inventory[\"quantity\"] > 0"
   ]
  },
  {
   "cell_type": "markdown",
   "metadata": {},
   "source": [
    "## 7"
   ]
  },
  {
   "cell_type": "code",
   "execution_count": 85,
   "metadata": {},
   "outputs": [],
   "source": [
    "# Create a column called total_value that is equal to price multiplied by quantity.\n",
    "inventory[\"total_value\"] = inventory.apply(axis = 1, func = lambda row: row[\"quantity\"] * row[\"price\"])"
   ]
  },
  {
   "cell_type": "markdown",
   "metadata": {},
   "source": [
    "## 8"
   ]
  },
  {
   "cell_type": "code",
   "execution_count": 87,
   "metadata": {},
   "outputs": [],
   "source": [
    "combine_lambda = lambda row: '{} - {}'.format(row.product_type, row.product_description)"
   ]
  },
  {
   "cell_type": "markdown",
   "metadata": {},
   "source": [
    "## 9"
   ]
  },
  {
   "cell_type": "code",
   "execution_count": 91,
   "metadata": {},
   "outputs": [],
   "source": [
    "# Using combine_lambda, create a new column in inventory called full_description \n",
    "# that has the complete description of each product.\n",
    "inventory[\"full_description\"] = inventory.apply(combine_lambda, axis = 1)"
   ]
  },
  {
   "cell_type": "markdown",
   "metadata": {},
   "source": [
    "# The End"
   ]
  }
 ],
 "metadata": {
  "kernelspec": {
   "display_name": "Python 3",
   "language": "python",
   "name": "python3"
  },
  "language_info": {
   "codemirror_mode": {
    "name": "ipython",
    "version": 3
   },
   "file_extension": ".py",
   "mimetype": "text/x-python",
   "name": "python",
   "nbconvert_exporter": "python",
   "pygments_lexer": "ipython3",
   "version": "3.8.5"
  }
 },
 "nbformat": 4,
 "nbformat_minor": 4
}
